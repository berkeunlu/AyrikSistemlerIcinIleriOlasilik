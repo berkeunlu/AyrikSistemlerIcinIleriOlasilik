{
  "nbformat": 4,
  "nbformat_minor": 0,
  "metadata": {
    "colab": {
      "name": "guvercin-yasasi.ipynb",
      "provenance": [],
      "collapsed_sections": [],
      "authorship_tag": "ABX9TyMJ923y3j2aqI31HamXhSZR",
      "include_colab_link": true
    },
    "kernelspec": {
      "name": "python3",
      "display_name": "Python 3"
    },
    "language_info": {
      "name": "python"
    }
  },
  "cells": [
    {
      "cell_type": "markdown",
      "metadata": {
        "id": "view-in-github",
        "colab_type": "text"
      },
      "source": [
        "<a href=\"https://colab.research.google.com/github/berkeunlu/AyrikSistemlerIcinIleriOlasilik/blob/main/Odev01/guvercin_yasasi.ipynb\" target=\"_parent\"><img src=\"https://colab.research.google.com/assets/colab-badge.svg\" alt=\"Open In Colab\"/></a>"
      ]
    },
    {
      "cell_type": "markdown",
      "source": [
        "# **Güvercin Deliği**\n",
        "\n",
        "## Tanım:\n",
        "\n",
        "Matematikte Güvercin Deliği İlkesi (en: Pigeonhole Principle)ya da çekmece ilkesi ya da Dirichlet kutu (çekmece) ilkesi, çok basit bir ilke olmasına karşın bu ilkeyi kullanarak ispatlanabilecek ilişkiler çok ilginç olabilir. Bu ilke tam olarak şunu der: N ve k pozitif tamsayılar ve N > k olmak üzere N nesne k kutuya yerleştirildiğinde öyle bir kutu vardır ki o kutuda birden çok nesne bulunmak zorundadır. Bu doğru olmasaydı, yani her kutuda en fazla birer nesne olsaydı, k kutuda en fazla k nesne olabilecekti.\n",
        "\n",
        "n ve m gibi iki doğal sayı için n > m durumunda, eğer n parça m güvercin deliğine koyulacaksa bir güvercin deliği birden fazla parça içermek zorundadır. Diğer bir söylem; m deliğe bir deliğe bir güvercin düşecek şekilde en fazla m güvercin yerleştirilebilir, bir tane daha yerleştirilmesi bir deliğin tekrar kullanılması ile olur.\n",
        "\n",
        "## Problem:\n",
        "\n",
        "Bir sınıfta 37 öğrenci bulunmaktadır. Fen dersi için verilen proje ödevi gruplar halinde laboratuvarda yapılacaktır. Laboratuvarda 7 deney seti olduğuna göre en kalabalık gruplar kaç kişi olur?"
      ],
      "metadata": {
        "id": "35LNwxuofg1U"
      }
    },
    {
      "cell_type": "code",
      "source": [
        "import math\n",
        "\n",
        "n = 37 #guvercin sayisi\n",
        "k = 7 #yuva sayisi\n",
        "m = 37/7 #yuva basina düsen guvercin sayisi\n",
        "sonuc = math.ceil(m)\n",
        "print(\"En kalabalik grup :\",sonuc,\"kisiden olusur.\")"
      ],
      "metadata": {
        "colab": {
          "base_uri": "https://localhost:8080/"
        },
        "id": "qy2VqzF9hAnJ",
        "outputId": "7d5404fb-8cf8-44ad-f6a9-87aa85e7b5a3"
      },
      "execution_count": 6,
      "outputs": [
        {
          "output_type": "stream",
          "name": "stdout",
          "text": [
            "En kalabalik grup : 6 kisiden olusur.\n"
          ]
        }
      ]
    }
  ]
}