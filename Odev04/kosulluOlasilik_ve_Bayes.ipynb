{
  "nbformat": 4,
  "nbformat_minor": 0,
  "metadata": {
    "colab": {
      "name": "kosulluOlasilik ve Bayes.ipynb",
      "provenance": [],
      "collapsed_sections": [],
      "authorship_tag": "ABX9TyM7B/4rxSXtHDB9U/RoE6K6",
      "include_colab_link": true
    },
    "kernelspec": {
      "name": "python3",
      "display_name": "Python 3"
    },
    "language_info": {
      "name": "python"
    }
  },
  "cells": [
    {
      "cell_type": "markdown",
      "metadata": {
        "id": "view-in-github",
        "colab_type": "text"
      },
      "source": [
        "<a href=\"https://colab.research.google.com/github/berkeunlu/AyrikSistemlerIcinIleriOlasilik/blob/main/Odev04/kosulluOlasilik_ve_Bayes.ipynb\" target=\"_parent\"><img src=\"https://colab.research.google.com/assets/colab-badge.svg\" alt=\"Open In Colab\"/></a>"
      ]
    },
    {
      "cell_type": "markdown",
      "source": [
        "# Odev04\n",
        "## Koşullu olasılık\n",
        "\n",
        "\n",
        "Olasılık kuramında, A olayının, bir diğer B olayına koşullu olasılığı (veya B biliniyorken A'nın olasılığı), P(A | B) olarak tanımlanır\n",
        "\n",
        "![bağlantı metni](https://wikimedia.org/api/rest_v1/media/math/render/svg/5142882db89f57d8276ad08bcf2f275751d608ac)\n",
        "\n",
        "\n",
        "\n",
        "Bu tanımda P(A,B), A ile B olaylarının ortak olasılıklarını, yani her ikisinin de gerçekleşme olasılığını ifade eder."
      ],
      "metadata": {
        "id": "hjbtkXTSDXDP"
      }
    },
    {
      "cell_type": "markdown",
      "source": [
        "## Örnek Soru:\n",
        "\n",
        "Bir çift zar atılıyor. Üst yüze gelenlerden birinin 5 olduğu bilindiğine göre, üst yüzlere gelen sayıların toplamının 8 olma olasılığı kaçtır?\n",
        "\n",
        "### **Çözüm**:\n",
        "\n",
        "Uzay Kümesi (36 sonuç):\n",
        "\n",
        "*   (1,1)   (2,1) \n",
        "*   (1,2)   (2,2) \n",
        "*   (1,3)   (2,3)   \n",
        "*   (1,4)   (2,4) \n",
        "*   (1,5)   (2,5) \n",
        "*   (1,6)   ...\n",
        "\n",
        "Koşullu Uzay (11 Sonuç):\n",
        "\n",
        "*   (5,1)   (1,5)\n",
        "*   (5,2)   (2,5)\n",
        "*   **(5,3)   (3,5)**\n",
        "*   (5,4)   (4,5)\n",
        "*   (5,5)   (6,5)\n",
        "*   (5,6)\n",
        "\n",
        "\n",
        "Toplamı 8 olanlar (2 Sonuç):\n",
        "\n",
        "  * (5,3)   (3,5)\n",
        "\n",
        "  >P(A) = 2/36 = 0.055\n",
        "\n",
        "  >P(B) = 11/36 = 0.305\n",
        "\n",
        "  >P(A|B) = P(A ∩ B) / P(B)\n",
        "\n",
        "  >P(A|B) = 0.055 / 0.305\n",
        "\n",
        "  >P(A|B) = 0.1803\n",
        " \n",
        "\n",
        "### Python ile Çözüm:"
      ],
      "metadata": {
        "id": "kPK_zudQEIvl"
      }
    },
    {
      "cell_type": "code",
      "source": [
        "def olasilikHesapla(S, A, B):\n",
        "  pA = A / S\n",
        "  pB = B / S\n",
        "  pAnB = pA\n",
        "  pAB = pAnB / pB\n",
        " \n",
        "  return pAB\n",
        "\n",
        "olasilikHesapla(36,2,11)"
      ],
      "metadata": {
        "colab": {
          "base_uri": "https://localhost:8080/"
        },
        "id": "dVk1XIVEDub5",
        "outputId": "f11e4c87-c9cf-4cc9-d752-75e01d150662"
      },
      "execution_count": 2,
      "outputs": [
        {
          "output_type": "execute_result",
          "data": {
            "text/plain": [
              "0.1818181818181818"
            ]
          },
          "metadata": {},
          "execution_count": 2
        }
      ]
    },
    {
      "cell_type": "markdown",
      "source": [
        "## Bayes\n",
        "\n",
        "Bayes teoremi bir stokastik süreç sırasında ortaya çıkan bir rastgele olay A ile bir diğer rastgele olay B (eğer B için kaybolmamış olasılık varsa) için koşullu olasılıkları ve marjinal olasılıkları arasındaki ilişkidir ve şu şekilde gösterilir:\n",
        "\n",
        "![bayes](https://wikimedia.org/api/rest_v1/media/math/render/svg/0d21a5fa6db79a43c29edf80b125bf4173b7811d)\n",
        "\n",
        "## Örnek Soru\n",
        "\n",
        "Ahmet günlerin %80inde şemsiyesini yanında taşımaktadır. Şemsiyesini yanına aldığı günlerin %30unda ve unuttuğu günlerin %60ında yağmur yağmaktadır. Yağmur yağdığı bir gün şemsiyesini alma ihtimali nedir?\n",
        "\n",
        "### **Çözüm**\n",
        "\n",
        "P(alma) = 0.8\n",
        "\n",
        "P(unutma) =  1 - P(alma) = 0.2\n",
        "\n",
        "P(yağmur|alma) = 0.3\n",
        "\n",
        "P(yağmur|unutma) = 0.6\n",
        "\n",
        "P(yağmur) = P(alma) * P(yağmur|alma) + P(unutma) * P(yağmur|unutma) = 0.8 * 0.3 + 0.2 * 0.6 = 0.36\n",
        "\n",
        "P(alma|yağmur) = ?\n",
        "\n",
        "\n",
        "P(alma|yağmur) = P(alma) * P(yağmur|alma) / P(yağmur)\n",
        "\n",
        "P(alma|yağmur) = ( 0.8 * 0.3 ) / 0.36\n",
        "\n",
        "P(alma|yağmur) = 0.666\n",
        "\n",
        "### **Python ile Çözüm:**\n",
        "\n"
      ],
      "metadata": {
        "id": "ChpsZ3RxOYZV"
      }
    },
    {
      "cell_type": "code",
      "source": [
        "def bayes(pA, pB, pBA):\n",
        "  return (pA * pBA) / pB\n",
        "\n",
        "pA = 0.8\n",
        "pU = 1 - pA\n",
        "pYA = 0.3\n",
        "pYU = 0.6\n",
        "pY = (pA * pYA) + (pU * pYU)\n",
        "\n",
        "print(bayes(pA, pY, pYA))\n",
        "\n"
      ],
      "metadata": {
        "colab": {
          "base_uri": "https://localhost:8080/"
        },
        "id": "LkueFUTyQVEy",
        "outputId": "836127aa-423a-435a-dc0b-da1fc9eb623d"
      },
      "execution_count": 15,
      "outputs": [
        {
          "output_type": "stream",
          "name": "stdout",
          "text": [
            "0.6666666666666666\n"
          ]
        }
      ]
    }
  ]
}