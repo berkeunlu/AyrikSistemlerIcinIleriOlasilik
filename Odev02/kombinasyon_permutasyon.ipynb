{
  "nbformat": 4,
  "nbformat_minor": 0,
  "metadata": {
    "colab": {
      "name": "kombinasyon_permutasyon.ipynb",
      "provenance": [],
      "collapsed_sections": [],
      "authorship_tag": "ABX9TyPWsparHbXEyzNDluBxhcS8",
      "include_colab_link": true
    },
    "kernelspec": {
      "name": "python3",
      "display_name": "Python 3"
    },
    "language_info": {
      "name": "python"
    }
  },
  "cells": [
    {
      "cell_type": "markdown",
      "metadata": {
        "id": "view-in-github",
        "colab_type": "text"
      },
      "source": [
        "<a href=\"https://colab.research.google.com/github/berkeunlu/AyrikSistemlerIcinIleriOlasilik/blob/main/Odev02/kombinasyon_permutasyon.ipynb\" target=\"_parent\"><img src=\"https://colab.research.google.com/assets/colab-badge.svg\" alt=\"Open In Colab\"/></a>"
      ]
    },
    {
      "cell_type": "markdown",
      "source": [
        "# Odev02\n",
        "## Fonksiyonların tanımlanması:"
      ],
      "metadata": {
        "id": "sUgVxyD_lSuc"
      }
    },
    {
      "cell_type": "code",
      "source": [
        "def factorial(num):\n",
        "  factorial = 1\n",
        "  if num < 0:\n",
        "    return \"error\"\n",
        "  elif num == 0:\n",
        "    return 1\n",
        "  else:\n",
        "    for i in range(1,num + 1):\n",
        "      factorial = factorial*i\n",
        "    return factorial\n",
        "\n",
        "def combination(x,y):\n",
        "    if (y>x):\n",
        "        return \"error\"\n",
        "    else:\n",
        "        return factorial(x) / ( factorial(x-y) * factorial(y) )\n",
        "\n",
        "def permutation(x,y):\n",
        "    if (y>x):\n",
        "        return \"error\"\n",
        "    else:\n",
        "        return factorial(x) / factorial(x-y)"
      ],
      "metadata": {
        "id": "b40jUAT6jeKP"
      },
      "execution_count": 22,
      "outputs": []
    },
    {
      "cell_type": "markdown",
      "source": [
        "# Kombinasyon\n",
        "\n",
        "## Problem:\n",
        "\n",
        "6 sı kız 4 ü erkek olan bir gruptan en fazla 2 si erkek olan 3 kişilik bir grup kaç farklı biçimde seçilebilir?\n"
      ],
      "metadata": {
        "id": "JrEk7YlmiQiu"
      }
    },
    {
      "cell_type": "code",
      "source": [
        "( combination(4,2) * combination(6,1) ) + ( combination(4,1) * combination(6,2) ) + combination(6,3)"
      ],
      "metadata": {
        "colab": {
          "base_uri": "https://localhost:8080/"
        },
        "id": "ogWk2w0WlPYd",
        "outputId": "5e8cdd4d-2242-4a0d-f442-d08b9bd1afa7"
      },
      "execution_count": 23,
      "outputs": [
        {
          "output_type": "execute_result",
          "data": {
            "text/plain": [
              "116.0"
            ]
          },
          "metadata": {},
          "execution_count": 23
        }
      ]
    },
    {
      "cell_type": "markdown",
      "source": [
        "# Permutasyon\n",
        "\n",
        "## Problem:\n",
        "\n",
        "4 farklı mektup 5 farklı posta kutusuna atılacaktır. Her mektup farklı posta kutusuna atılmak koşuluyla mektuplar kaç farklı şekilde postalanabilir?"
      ],
      "metadata": {
        "id": "PwUoLXv1mTAi"
      }
    },
    {
      "cell_type": "code",
      "source": [
        "permutation(5,4)"
      ],
      "metadata": {
        "colab": {
          "base_uri": "https://localhost:8080/"
        },
        "id": "HrzKh6lTmTOc",
        "outputId": "1ea09045-d113-4695-ab4a-92e70c44daeb"
      },
      "execution_count": 25,
      "outputs": [
        {
          "output_type": "execute_result",
          "data": {
            "text/plain": [
              "120.0"
            ]
          },
          "metadata": {},
          "execution_count": 25
        }
      ]
    }
  ]
}