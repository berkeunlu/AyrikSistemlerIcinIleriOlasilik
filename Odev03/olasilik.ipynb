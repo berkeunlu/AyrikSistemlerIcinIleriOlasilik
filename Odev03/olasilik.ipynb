{
  "nbformat": 4,
  "nbformat_minor": 0,
  "metadata": {
    "colab": {
      "name": "olasilik.ipynb",
      "provenance": [],
      "collapsed_sections": [],
      "authorship_tag": "ABX9TyMRbaebr1dkxjphWBnKpCYO",
      "include_colab_link": true
    },
    "kernelspec": {
      "name": "python3",
      "display_name": "Python 3"
    },
    "language_info": {
      "name": "python"
    }
  },
  "cells": [
    {
      "cell_type": "markdown",
      "metadata": {
        "id": "view-in-github",
        "colab_type": "text"
      },
      "source": [
        "<a href=\"https://colab.research.google.com/github/berkeunlu/AyrikSistemlerIcinIleriOlasilik/blob/main/Odev03/olasilik.ipynb\" target=\"_parent\"><img src=\"https://colab.research.google.com/assets/colab-badge.svg\" alt=\"Open In Colab\"/></a>"
      ]
    },
    {
      "cell_type": "markdown",
      "source": [
        "# Odev03\n",
        "\n",
        "Fonksiyonların Tanımlanması"
      ],
      "metadata": {
        "id": "ECkvh_sw1FdV"
      }
    },
    {
      "cell_type": "code",
      "source": [
        "def factorial(num):\n",
        "  factorial = 1\n",
        "  if num < 0:\n",
        "    return \"error\"\n",
        "  elif num == 0:\n",
        "    return 1\n",
        "  else:\n",
        "    for i in range(1,num + 1):\n",
        "      factorial = factorial*i\n",
        "    return factorial\n",
        "\n",
        "def combination(x,y):\n",
        "    if (y>x):\n",
        "        return \"error\"\n",
        "    else:\n",
        "        return factorial(x) / ( factorial(x-y) * factorial(y) )\n",
        "\n",
        "def permutation(x,y):\n",
        "    if (y>x):\n",
        "        return \"error\"\n",
        "    else:\n",
        "        return factorial(x) / factorial(x-y)"
      ],
      "metadata": {
        "id": "csf7wHVx1NM7"
      },
      "execution_count": null,
      "outputs": []
    },
    {
      "cell_type": "markdown",
      "source": [
        "## Soru 1:\n",
        "**Olasılık: Permutasyon**\n",
        "\n",
        "**Hipopotam** kelimesindeki harfler yerdegistirilerek anlamlı veya anlamsız 10 harfli kelimeler yazılacaktır. Bu kelimelerin kaçı R harfi ile baslayıp E harfi ile biter?\n",
        "\n",
        "Örnek Uzay: \n"
      ],
      "metadata": {
        "id": "95SjRcmC1VW4"
      }
    },
    {
      "cell_type": "code",
      "source": [
        "Olasılık: Permutasyon"
      ],
      "metadata": {
        "id": "42D0Mlmu1YWu"
      },
      "execution_count": null,
      "outputs": []
    }
  ]
}