{
  "nbformat": 4,
  "nbformat_minor": 0,
  "metadata": {
    "colab": {
      "name": "olasilik.ipynb",
      "provenance": [],
      "collapsed_sections": [],
      "authorship_tag": "ABX9TyMzjYFLlt+QKWh1hLU66QN7",
      "include_colab_link": true
    },
    "kernelspec": {
      "name": "python3",
      "display_name": "Python 3"
    },
    "language_info": {
      "name": "python"
    }
  },
  "cells": [
    {
      "cell_type": "markdown",
      "metadata": {
        "id": "view-in-github",
        "colab_type": "text"
      },
      "source": [
        "<a href=\"https://colab.research.google.com/github/berkeunlu/AyrikSistemlerIcinIleriOlasilik/blob/main/Odev03/olasilik.ipynb\" target=\"_parent\"><img src=\"https://colab.research.google.com/assets/colab-badge.svg\" alt=\"Open In Colab\"/></a>"
      ]
    },
    {
      "cell_type": "markdown",
      "source": [
        "# Odev03\n",
        "\n",
        "Fonksiyonların Tanımlanması"
      ],
      "metadata": {
        "id": "ECkvh_sw1FdV"
      }
    },
    {
      "cell_type": "code",
      "source": [
        "def factorial(num):\n",
        "  factorial = 1\n",
        "  if num < 0:\n",
        "    return \"error\"\n",
        "  elif num == 0:\n",
        "    return 1\n",
        "  else:\n",
        "    for i in range(1,num + 1):\n",
        "      factorial = factorial*i\n",
        "    return factorial\n",
        "\n",
        "def combination(x,y):\n",
        "    if (y>x):\n",
        "        return \"error\"\n",
        "    else:\n",
        "        return factorial(x) / ( factorial(x-y) * factorial(y) )\n",
        "\n",
        "def permutation(x,y):\n",
        "    if (y>x):\n",
        "        return \"error\"\n",
        "    else:\n",
        "        return factorial(x) / factorial(x-y)"
      ],
      "metadata": {
        "id": "csf7wHVx1NM7"
      },
      "execution_count": 4,
      "outputs": []
    },
    {
      "cell_type": "markdown",
      "source": [
        "## Soru 1:\n",
        "**Olasılık: Permutasyon**\n",
        "\n",
        "**Hipopotam** kelimesindeki harfler yer değiştirilerek anlamlı veya anlamsız 10 harfli kelimeler yazılacaktır. Bu kelimelerin kaçı M harfi ile baslayıp İ harfi ile bitme olasılığı kaçtır?\n",
        "\n",
        "Örnek Uzay: 9!/(2!*2!)\n",
        "\n",
        "Olasılık Değeri: 7!/(2!*2!) / 9!/(2!*2!)\n"
      ],
      "metadata": {
        "id": "95SjRcmC1VW4"
      }
    },
    {
      "cell_type": "code",
      "source": [
        "kelime = factorial(7) / ( factorial(2) * factorial(2) )\n",
        "ornekUzay= factorial(9) / ( factorial(2) * factorial(2) )\n",
        "print(kelime,\"/\",ornekUzay)\n",
        "print(kelime/ornekUzay)"
      ],
      "metadata": {
        "colab": {
          "base_uri": "https://localhost:8080/"
        },
        "id": "42D0Mlmu1YWu",
        "outputId": "679237ed-ccc1-4586-dee7-f8dcad208a2f"
      },
      "execution_count": 33,
      "outputs": [
        {
          "output_type": "stream",
          "name": "stdout",
          "text": [
            "1260.0 / 90720.0\n",
            "0.013888888888888888\n"
          ]
        }
      ]
    },
    {
      "cell_type": "markdown",
      "source": [
        "# Soru 2:\n",
        "**Olasılık: Kombinasyon**\n",
        "\n",
        "Evli çiftlerden oluşan 8 kişilik bir gruptan seçilen 2 kişinin evli **olma** ihtimali nedir?\n",
        "\n",
        "Örnek Uzay: C(8,2)\n",
        "\n",
        "Olasılık Değeri:  C(4,1) * C (7,1) / C(8,2)"
      ],
      "metadata": {
        "id": "ZR8qV0AKAERQ"
      }
    },
    {
      "cell_type": "code",
      "source": [
        "print(combination(4,1),\"/\",combination(8,2))\n",
        "print(combination(4,1) / combination(8,2))"
      ],
      "metadata": {
        "colab": {
          "base_uri": "https://localhost:8080/"
        },
        "id": "M9gFFmE0ACf6",
        "outputId": "8656366e-2eae-42bb-9a6f-5c9c6a5cc57e"
      },
      "execution_count": 34,
      "outputs": [
        {
          "output_type": "stream",
          "name": "stdout",
          "text": [
            "4.0 / 28.0\n",
            "0.14285714285714285\n"
          ]
        }
      ]
    }
  ]
}